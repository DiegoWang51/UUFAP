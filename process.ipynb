{
 "cells": [
  {
   "cell_type": "code",
   "execution_count": 1,
   "metadata": {},
   "outputs": [
    {
     "name": "stderr",
     "output_type": "stream",
     "text": [
      "Building prefix dict from the default dictionary ...\n",
      "Loading model from cache /var/folders/8h/6s_k0gw516x_vhfgp65791w00000gn/T/jieba.cache\n"
     ]
    },
    {
     "name": "stdout",
     "output_type": "stream",
     "text": [
      "不是本届的，但是来凑个热闹。\n",
      "\n",
      "请各位学弟学妹不要再将我工 Georgia Tech/GT 叫成 GIT 了(ಥ_ಥ)  \n",
      "\n",
      "我们不是饭桶也不是一个version control system...\n",
      "\n",
      "还有\"GIT\"写到文书里可能会被拒的...\n",
      "\n",
      "祝各位学弟学妹高就啦(*¯︶¯*)有机会来做校友啊~\n",
      "\n",
      "\n"
     ]
    },
    {
     "name": "stderr",
     "output_type": "stream",
     "text": [
      "Loading model cost 0.527 seconds.\n",
      "Prefix dict has been built succesfully.\n"
     ]
    },
    {
     "name": "stdout",
     "output_type": "stream",
     "text": [
      "不是 本届 的 但是 来 凑个 热闹 请 各位 学弟 学妹 不要 再 将 我工 Georgia Tech / GT 叫成 GIT 了 我们 不是 饭桶 也 不是 一个 version control system ... 还有 \" GIT \" 写 到 文书 里 可能 会 被 拒 的 ... 祝 各位 学弟 学妹 高 就 啦 有 机会 来 做 校友 啊 ~\n"
     ]
    }
   ],
   "source": [
    "import csv\n",
    "import re\n",
    "import jieba\n",
    "import random\n",
    "\n",
    "answers = []\n",
    "with open('rawAnswer.csv', 'r') as f:\n",
    "    \n",
    "    reader = csv.reader(f)\n",
    "    for answer in reader:\n",
    "        answers.append(answer)\n",
    "\n",
    "schoolNames = []        \n",
    "\n",
    "index = random.randint(0, 1077) # 378\n",
    "answer = answers[index][0]\n",
    "print(answer)\n",
    "\n",
    "patterns = ['“.+?”', '‘.+?’', '\\(.+?\\)', '（.+?）', '\\(.+?\\\\n', '（.+?\\\\n']\n",
    "for pattern in patterns:\n",
    "    quotes = re.findall(pattern, answer)\n",
    "    for quote in quotes:\n",
    "        answer = answer.replace(quote, '')\n",
    "\n",
    "answerList = list(jieba.cut(answer))\n",
    "\n",
    "useless = ['', ' ', '\\n', '—', '-', '，', '；', '。']\n",
    "for s in useless:\n",
    "    while s in answerList:\n",
    "        answerList.remove(s)\n",
    "\n",
    "print(*answerList)\n",
    "\n"
   ]
  },
  {
   "cell_type": "code",
   "execution_count": 4,
   "metadata": {
    "scrolled": false,
    "slideshow": {
     "slide_type": "subslide"
    }
   },
   "outputs": [
    {
     "data": {
      "text/plain": [
       "['C[edit]',\n",
       " 'CBU – California Baptist University',\n",
       " 'C of C – College of Charleston',\n",
       " 'Cal – University of California, Berkeley',\n",
       " 'Cal Poly – California Polytechnic State University, San Luis Obispo',\n",
       " 'Cal Poly Pomona – California State Polytechnic University, Pomona',\n",
       " 'Caltech – California Institute of Technology',\n",
       " 'Cal U or CUP – California University of Pennsylvania',\n",
       " 'Cal State – California State University (various campuses)',\n",
       " 'Carolina – University of North Carolina at Chapel Hill, University of South Carolina',\n",
       " 'Catholic – Catholic University of America',\n",
       " 'Central – Central State University, North Carolina Central University',\n",
       " 'CC – Colorado College',\n",
       " 'CCNY – City College of New York',\n",
       " 'CCSU – Central Connecticut State University',\n",
       " 'CCU – Coastal Carolina University',\n",
       " 'CCV – Community College of Vermont',\n",
       " 'CGU – Claremont Graduate University',\n",
       " 'Chapel Hill – University of North Carolina at Chapel Hill',\n",
       " 'Charlotte – University of North Carolina at Charlotte',\n",
       " 'Chatt or Chattanooga – University of Tennessee at Chattanooga',\n",
       " 'Chatt State – Chattanooga State Community College',\n",
       " 'Chico State – California State University, Chico',\n",
       " 'City Tech – New York City College of Technology',\n",
       " 'CIA – The Culinary Institute of America',\n",
       " 'CMC – Claremont McKenna College',\n",
       " 'CMU – Carnegie Mellon University, Central Michigan University',\n",
       " 'CNU – Christopher Newport University',\n",
       " 'Coast Guard – United States Coast Guard Academy',\n",
       " 'College Park – University of Maryland, College Park',\n",
       " 'Colorado – University of Colorado Boulder',\n",
       " 'Colorado Springs – University of Colorado Colorado Springs',\n",
       " \"CSB/SJU – College of Saint Benedict/Saint John's University\",\n",
       " 'CSE – College of Saint Elizabeth',\n",
       " 'CSI – College of Staten Island',\n",
       " 'CSU – California State University, Cleveland State University, Colorado State University, Clayton State University, Coppin State University',\n",
       " 'CSUF – California State University, Fresno',\n",
       " 'CSUEB – California State University, East Bay (formerly California State University, Hayward)',\n",
       " 'CSULA – California State University, Los Angeles',\n",
       " 'CSU-Pueblo – Colorado State University-Pueblo',\n",
       " 'CSUS – California State University, Sacramento',\n",
       " 'CU – Chapman University, Clemson University, University of Colorado at Boulder, University of Colorado system, Columbia University, Cornell University, Creighton University',\n",
       " 'CUA – Catholic University of America',\n",
       " 'Cumberlands – University of the Cumberlands',\n",
       " 'CUNY – City University of New York',\n",
       " 'Cuse – Syracuse University',\n",
       " '']"
      ]
     },
     "execution_count": 4,
     "metadata": {},
     "output_type": "execute_result"
    }
   ],
   "source": [
    "with open('listOfUniversities.txt', 'r') as f:\n",
    "    univsText = f.read()\n",
    "\n",
    "univsList = univsText.split('\\n')\n",
    "\n",
    "while \n",
    "univsList"
   ]
  },
  {
   "cell_type": "code",
   "execution_count": null,
   "metadata": {
    "collapsed": true
   },
   "outputs": [],
   "source": []
  }
 ],
 "metadata": {
  "kernelspec": {
   "display_name": "Python 3",
   "language": "python",
   "name": "python3"
  },
  "language_info": {
   "codemirror_mode": {
    "name": "ipython",
    "version": 3
   },
   "file_extension": ".py",
   "mimetype": "text/x-python",
   "name": "python",
   "nbconvert_exporter": "python",
   "pygments_lexer": "ipython3",
   "version": "3.6.8"
  }
 },
 "nbformat": 4,
 "nbformat_minor": 2
}
