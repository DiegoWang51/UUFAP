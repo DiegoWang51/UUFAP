{
 "cells": [
  {
   "cell_type": "code",
   "execution_count": 2,
   "metadata": {
    "scrolled": false
   },
   "outputs": [
    {
     "name": "stdout",
     "output_type": "stream",
     "text": [
      "['Serial No.', 'GRE Score', 'TOEFL Score', 'University Rating', 'SOP', 'LOR ', 'CGPA', 'Research', 'Chance of Admit'] \n",
      "\n",
      "[0.68, 0.75, 0.75, 0.875, 0.875, 0.7852564102564102, 1.0, 0.89]\n",
      "[0.36, 0.6428571428571429, 0.75, 0.625, 0.5, 0.5769230769230769, 0.0, 0.7]\n",
      "[0.84, 0.9285714285714286, 1.0, 1.0, 1.0, 0.9102564102564105, 1.0, 0.94]\n",
      "[0.08, 0.03571428571428571, 0.0, 0.125, 0.25, 0.17948717948717963, 0.0, 0.46]\n",
      "[0.66, 0.7142857142857143, 1.0, 0.75, 0.875, 0.6346153846153845, 0.0, 0.79]\n",
      "\n",
      "\n",
      "[0.94, 0.9285714285714286, 0.75, 0.875, 0.875, 0.9134615384615385, 1.0]\n",
      "[0.5, 0.42857142857142855, 0.5, 0.5, 0.375, 0.4903846153846155, 0.0]\n",
      "[0.44, 0.4642857142857143, 0.25, 0.375, 0.5, 0.42307692307692285, 0.0]\n",
      "[0.9, 0.8928571428571429, 1.0, 1.0, 1.0, 0.9679487179487181, 1.0]\n",
      "[0.58, 0.6428571428571429, 0.5, 0.625, 0.625, 0.7179487179487177, 0.0]\n",
      "0.92\n",
      "0.67\n",
      "0.64\n",
      "0.96\n",
      "0.82\n"
     ]
    }
   ],
   "source": [
    "# read and preprocess data\n",
    "\n",
    "\n",
    "import csv\n",
    "import numpy as np\n",
    "import random\n",
    "\n",
    "\n",
    "rData = []\n",
    "with open('Admission_Predict_Ver1.1.csv', 'r') as f:\n",
    "    reader = csv.reader(f)\n",
    "    for line in reader:\n",
    "        rData.append(line)\n",
    "\n",
    "print(rData[0], '\\n')\n",
    "\n",
    "data = []\n",
    "\n",
    "for rLine in rData[1:]:\n",
    "    line = []\n",
    "    for number in rLine[1:]:\n",
    "        line.append(float(number))\n",
    "    data.append(line)\n",
    "\n",
    "for i in range(len(data)):\n",
    "    data[i][0] = (data[i][0] - 290) / 50\n",
    "    data[i][1] = (data[i][1] - 92) / 28\n",
    "    data[i][2] = (data[i][2] - 1) / 4\n",
    "    data[i][3] = (data[i][3] - 1) / 4\n",
    "    data[i][4] = (data[i][4] - 1) / 4\n",
    "    data[i][5] = (data[i][5] - 6.8) / 3.12\n",
    "    \n",
    "random.shuffle(data)\n",
    "\n",
    "print(*data[495:], '\\n', sep = '\\n')\n",
    "\n",
    "X = [line[:7] for line in data]\n",
    "y = [line[7] for line in data]\n",
    "\n",
    "trainX = X[:400]\n",
    "trainy = y[:400]\n",
    "testX = X[400:]\n",
    "testy = y[400:]\n",
    "\n",
    "print(*trainX[395:], sep = '\\n')\n",
    "print(*trainy[395:], sep = '\\n')"
   ]
  },
  {
   "cell_type": "code",
   "execution_count": null,
   "metadata": {
    "collapsed": true,
    "scrolled": false
   },
   "outputs": [],
   "source": [
    "# K Nearest Neighbors\n",
    "\n",
    "\n",
    "k = 10\n",
    "\n",
    "def getDist(studentA, studentB):\n",
    "    dist2 = 0\n",
    "    for i in range(7):\n",
    "        dist2 += (studentA[i] - studentB[i]) ** 2\n",
    "    return dist2 ** 0.5\n",
    "\n",
    "print(getDist(trainX[395], trainX[396]), '\\n')\n",
    "\n",
    "predicty = []\n",
    "\n",
    "for test in testX:\n",
    "    \n",
    "    trainXCopy = []\n",
    "    for train in trainX:\n",
    "        trainXCopy.append(train.copy())\n",
    "    trainyCopy = trainy.copy()\n",
    "    \n",
    "    nearestScores = []\n",
    "    \n",
    "    for i in range(k):\n",
    "        nearestStudent = min(trainXCopy, key = lambda train : getDist(train, test))\n",
    "        index = trainXCopy.index(nearestStudent)\n",
    "        nearestScores.append(trainyCopy[index])\n",
    "        del trainXCopy[index]\n",
    "        del trainyCopy[index]\n",
    "        \n",
    "    predicty.append(sum(nearestScores) / k)\n",
    "\n",
    "print(predicty[95:], '\\n', testy[95:], '\\n')\n",
    "\n",
    "KNNScore = np.corrcoef(predicty, testy)[0][1]\n",
    "print(KNNScore)"
   ]
  },
  {
   "cell_type": "code",
   "execution_count": 11,
   "metadata": {
    "scrolled": false
   },
   "outputs": [
    {
     "name": "stdout",
     "output_type": "stream",
     "text": [
      "[0.94, 0.9285714285714286, 0.75, 0.875, 0.875, 0.9134615384615385, 1.0]\n",
      "[0.5, 0.42857142857142855, 0.5, 0.5, 0.375, 0.4903846153846155, 0.0]\n",
      "[0.44, 0.4642857142857143, 0.25, 0.375, 0.5, 0.42307692307692285, 0.0]\n",
      "[0.9, 0.8928571428571429, 1.0, 1.0, 1.0, 0.9679487179487181, 1.0]\n",
      "[0.58, 0.6428571428571429, 0.5, 0.625, 0.625, 0.7179487179487177, 0.0]\n",
      "0.295879000923\n",
      "0.293538198036\n",
      "0.295883400102\n",
      "0.295821512271\n",
      "0.294545446356\n"
     ]
    }
   ],
   "source": [
    "# Artificial Neural Network\n",
    "\n",
    "\n",
    "import math\n",
    "\n",
    "\n",
    "def sigmoid(z):\n",
    "    a = 1 / (1 + math.e ** (- z))\n",
    "    return a\n",
    "\n",
    "def dSigmoid(a):\n",
    "    return a * (1 - a)\n",
    "\n",
    "sigmoid = np.vectorize(sigmoid)\n",
    "dSigmoid = np.vectorize(dSigmoid)\n",
    "\n",
    "activations = [7, 10, 10, 10, 1]\n",
    "\n",
    "# Initialize weights\n",
    "\n",
    "Weights = []\n",
    "\n",
    "for i in range(len(activations) - 1):\n",
    "    Weight = np.random.rand(activations[i + 1], activations[i] + 1)\n",
    "    Weight = Weight * 2 - 1\n",
    "    Weights.append(Weight)\n",
    "\n",
    "# Forward Propagation\n",
    "\n",
    "results = []\n",
    "\n",
    "for train in trainX[395:]:\n",
    "    \n",
    "    activations = []\n",
    "    \n",
    "    activation = np.matrix(train).T\n",
    "    for Weight in Weights:\n",
    "        activation = np.vstack([activation, np.matrix(1)])\n",
    "        activation = Weight * activation\n",
    "        activation = sigmoid(activation)\n",
    "    \n",
    "    result = activation[0, 0]\n",
    "    results.append(result)\n",
    "\n",
    "print(*trainX[395:], *results, sep = '\\n')\n",
    "\n",
    "# Backward Propagation\n",
    "\n"
   ]
  },
  {
   "cell_type": "code",
   "execution_count": 7,
   "metadata": {},
   "outputs": [
    {
     "data": {
      "text/plain": [
       "0.32999999999999996"
      ]
     },
     "execution_count": 7,
     "metadata": {},
     "output_type": "execute_result"
    }
   ],
   "source": [
    "sigmoid(0.5)\n",
    "0.62**2\n",
    "0.62 * 3 / 2\n",
    "sigmoid(0.72)\n",
    "1-0.67"
   ]
  },
  {
   "cell_type": "code",
   "execution_count": null,
   "metadata": {
    "collapsed": true
   },
   "outputs": [],
   "source": []
  }
 ],
 "metadata": {
  "kernelspec": {
   "display_name": "Python 3",
   "language": "python",
   "name": "python3"
  },
  "language_info": {
   "codemirror_mode": {
    "name": "ipython",
    "version": 3
   },
   "file_extension": ".py",
   "mimetype": "text/x-python",
   "name": "python",
   "nbconvert_exporter": "python",
   "pygments_lexer": "ipython3",
   "version": "3.6.8"
  }
 },
 "nbformat": 4,
 "nbformat_minor": 2
}
