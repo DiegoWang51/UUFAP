{
 "cells": [
  {
   "cell_type": "code",
   "execution_count": 1,
   "metadata": {
    "scrolled": false
   },
   "outputs": [
    {
     "name": "stdout",
     "output_type": "stream",
     "text": [
      "['Serial No.', 'GRE Score', 'TOEFL Score', 'University Rating', 'SOP', 'LOR ', 'CGPA', 'Research', 'Chance of Admit'] \n",
      "\n",
      "[0.2, 25.25, 0.25, 0.125, 0.25, 0.342948717948718, 0.0, 0.56]\n",
      "[0.68, 28.0, 0.75, 0.875, 0.875, 0.7852564102564102, 1.0, 0.89]\n",
      "[0.5, 25.5, 0.0, 0.125, 0.25, 0.33974358974358987, 0.0, 0.57]\n",
      "[0.18, 24.0, 0.5, 1.0, 0.625, 0.2756410256410257, 0.0, 0.38]\n",
      "[0.62, 27.0, 0.75, 0.75, 0.75, 0.746794871794872, 1.0, 0.85]\n",
      "\n",
      "\n",
      "[0.3, 26.0, 0.25, 0.5, 0.75, 0.4262820512820516, 0.0]\n",
      "[0.2, 24.5, 0.0, 0.0, 0.375, 0.3878205128205128, 0.0]\n",
      "[0.42, 26.25, 0.25, 0.625, 0.5, 0.4679487179487179, 1.0]\n",
      "[0.82, 29.75, 0.5, 0.75, 0.75, 0.6923076923076926, 1.0]\n",
      "[0.2, 25.25, 0.5, 0.625, 0.375, 0.4391025641025641, 0.0]\n",
      "0.66\n",
      "0.58\n",
      "0.79\n",
      "0.86\n",
      "0.63\n"
     ]
    }
   ],
   "source": [
    "import csv\n",
    "import numpy as np\n",
    "import random\n",
    "\n",
    "\n",
    "rData = []\n",
    "with open('Admission_Predict_Ver1.1.csv', 'r') as f:\n",
    "    reader = csv.reader(f)\n",
    "    for line in reader:\n",
    "        rData.append(line)\n",
    "\n",
    "print(rData[0], '\\n')\n",
    "\n",
    "data = []\n",
    "\n",
    "for rLine in rData[1:]:\n",
    "    line = []\n",
    "    for number in rLine[1:]:\n",
    "        line.append(float(number))\n",
    "    data.append(line)\n",
    "\n",
    "for i in range(len(data)):\n",
    "    data[i][0] = (data[i][0] - 290) / 50\n",
    "    data[i][1] = (data[i][1] - 1) / 4\n",
    "    data[i][2] = (data[i][2] - 1) / 4\n",
    "    data[i][3] = (data[i][3] - 1) / 4\n",
    "    data[i][4] = (data[i][4] - 1) / 4\n",
    "    data[i][5] = (data[i][5] - 6.8) / 3.12\n",
    "    \n",
    "random.shuffle(data)\n",
    "\n",
    "print(*data[495:], '\\n', sep = '\\n')\n",
    "\n",
    "X = [line[:7] for line in data]\n",
    "y = [line[7] for line in data]\n",
    "\n",
    "TrainX = X[:400]\n",
    "Trainy = y[:400]\n",
    "TestX = X[400:]\n",
    "Testy = y[400:]\n",
    "\n",
    "print(*TrainX[395:], sep = '\\n')\n",
    "print(*Trainy[395:], sep = '\\n')"
   ]
  },
  {
   "cell_type": "code",
   "execution_count": 15,
   "metadata": {
    "scrolled": false
   },
   "outputs": [
    {
     "name": "stdout",
     "output_type": "stream",
     "text": [
      "1.6476056233033525 \n",
      "\n",
      "[0.6159999999999999, 0.874, 0.577, 0.532, 0.7809999999999999] \n",
      " [0.56, 0.89, 0.57, 0.38, 0.85] \n",
      "\n",
      "0.870080646351\n"
     ]
    }
   ],
   "source": [
    "# KNN\n",
    "\n",
    "import numpy as np\n",
    "\n",
    "\n",
    "k = 10\n",
    "\n",
    "def getDist(studentA, studentB):\n",
    "    dist2 = 0\n",
    "    for i in range(7):\n",
    "        dist2 += (studentA[i] - studentB[i]) ** 2\n",
    "    return dist2 ** 0.5\n",
    "\n",
    "print(getDist(TrainX[395], TrainX[396]), '\\n')\n",
    "\n",
    "Predicty = []\n",
    "\n",
    "for test in TestX:\n",
    "    \n",
    "    TrainXCopy = []\n",
    "    for train in TrainX:\n",
    "        TrainXCopy.append(train.copy())\n",
    "    TrainyCopy = Trainy.copy()\n",
    "    \n",
    "    nearestScores = []\n",
    "    \n",
    "    for i in range(k):\n",
    "        nearestStudent = min(TrainXCopy, key = lambda train : getDist(train, test))\n",
    "        index = TrainXCopy.index(nearestStudent)\n",
    "        nearestScores.append(TrainyCopy[index])\n",
    "        del TrainXCopy[index]\n",
    "        del TrainyCopy[index]\n",
    "        \n",
    "    Predicty.append(sum(nearestScores) / k)\n",
    "\n",
    "print(Predicty[95:], '\\n', Testy[95:], '\\n')\n",
    "\n",
    "KNNScore = np.corrcoef(Predicty, Testy)[0][1]\n",
    "print(KNNScore)"
   ]
  },
  {
   "cell_type": "code",
   "execution_count": null,
   "metadata": {
    "collapsed": true
   },
   "outputs": [],
   "source": []
  }
 ],
 "metadata": {
  "kernelspec": {
   "display_name": "Python 3",
   "language": "python",
   "name": "python3"
  },
  "language_info": {
   "codemirror_mode": {
    "name": "ipython",
    "version": 3
   },
   "file_extension": ".py",
   "mimetype": "text/x-python",
   "name": "python",
   "nbconvert_exporter": "python",
   "pygments_lexer": "ipython3",
   "version": "3.6.8"
  }
 },
 "nbformat": 4,
 "nbformat_minor": 2
}
