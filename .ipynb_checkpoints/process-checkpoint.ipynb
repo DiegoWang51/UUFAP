{
 "cells": [
  {
   "cell_type": "code",
   "execution_count": null,
   "metadata": {},
   "outputs": [],
   "source": [
    "import csv\n",
    "import re\n",
    "import jieba\n",
    "import random\n",
    "\n",
    "answers = []\n",
    "with open('rawAnswer.csv', 'r') as f:\n",
    "    \n",
    "    reader = csv.reader(f)\n",
    "    for answer in reader:\n",
    "        answers.append(answer)\n",
    "\n",
    "index = random.randint(0, 1077) # 378\n",
    "answer = answers[index][0]\n",
    "print(answer)\n",
    "\n",
    "patterns = ['“.+?”', '‘.+?’', '\\(.+?\\)', '（.+?）', '\\(.+?\\\\n', '（.+?\\\\n']\n",
    "for pattern in patterns:\n",
    "    quotes = re.findall(pattern, answer)\n",
    "    for quote in quotes:\n",
    "        answer = answer.replace(quote, '')\n",
    "\n",
    "answerList = list(jieba.cut(answer))\n",
    "\n",
    "useless = ['', ' ', '\\n', '—', '-', '，', '；', '。']\n",
    "for s in useless:\n",
    "    while s in answerList:\n",
    "        answerList.remove(s)\n",
    "\n",
    "print(*answerList)\n"
   ]
  },
  {
   "cell_type": "code",
   "execution_count": null,
   "metadata": {
    "collapsed": true
   },
   "outputs": [],
   "source": []
  }
 ],
 "metadata": {
  "kernelspec": {
   "display_name": "Python 3",
   "language": "python",
   "name": "python3"
  },
  "language_info": {
   "codemirror_mode": {
    "name": "ipython",
    "version": 3
   },
   "file_extension": ".py",
   "mimetype": "text/x-python",
   "name": "python",
   "nbconvert_exporter": "python",
   "pygments_lexer": "ipython3",
   "version": "3.6.8"
  }
 },
 "nbformat": 4,
 "nbformat_minor": 2
}
