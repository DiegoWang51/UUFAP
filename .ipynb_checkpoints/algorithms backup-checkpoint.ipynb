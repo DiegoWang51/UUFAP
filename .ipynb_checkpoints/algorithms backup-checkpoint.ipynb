{
 "cells": [
  {
   "cell_type": "code",
   "execution_count": null,
   "metadata": {
    "scrolled": false
   },
   "outputs": [],
   "source": [
    "import csv\n",
    "import numpy as np\n",
    "import random\n",
    "\n",
    "\n",
    "rData = []\n",
    "with open('Admission_Predict_Ver1.1.csv', 'r') as f:\n",
    "    reader = csv.reader(f)\n",
    "    for line in reader:\n",
    "        rData.append(line)\n",
    "\n",
    "print(rData[0], '\\n')\n",
    "\n",
    "data = []\n",
    "\n",
    "for rLine in rData[1:]:\n",
    "    line = []\n",
    "    for number in rLine[1:]:\n",
    "        line.append(float(number))\n",
    "    data.append(line)\n",
    "\n",
    "for i in range(len(data)):\n",
    "    data[i][0] = (data[i][0] - 290) / 50\n",
    "    data[i][1] = (data[i][1] - 92) / 28\n",
    "    data[i][2] = (data[i][2] - 1) / 4\n",
    "    data[i][3] = (data[i][3] - 1) / 4\n",
    "    data[i][4] = (data[i][4] - 1) / 4\n",
    "    data[i][5] = (data[i][5] - 6.8) / 3.12\n",
    "    \n",
    "random.shuffle(data)\n",
    "\n",
    "print(*data[495:], '\\n', sep = '\\n')\n",
    "\n",
    "X = [line[:7] for line in data]\n",
    "y = [line[7] for line in data]\n",
    "\n",
    "trainX = X[:400]\n",
    "trainy = y[:400]\n",
    "testX = X[400:]\n",
    "testy = y[400:]\n",
    "\n",
    "print(*trainX[395:], sep = '\\n')\n",
    "print(*trainy[395:], sep = '\\n')"
   ]
  },
  {
   "cell_type": "code",
   "execution_count": null,
   "metadata": {
    "scrolled": false
   },
   "outputs": [],
   "source": [
    "# KNN\n",
    "\n",
    "import numpy as np\n",
    "\n",
    "\n",
    "k = 10\n",
    "\n",
    "def getDist(studentA, studentB):\n",
    "    dist2 = 0\n",
    "    for i in range(7):\n",
    "        dist2 += (studentA[i] - studentB[i]) ** 2\n",
    "    return dist2 ** 0.5\n",
    "\n",
    "print(getDist(trainX[395], trainX[396]), '\\n')\n",
    "\n",
    "Predicty = []\n",
    "\n",
    "for test in testX:\n",
    "    \n",
    "    trainXCopy = []\n",
    "    for train in trainX:\n",
    "        trainXCopy.append(train.copy())\n",
    "    trainyCopy = trainy.copy()\n",
    "    \n",
    "    nearestScores = []\n",
    "    \n",
    "    for i in range(k):\n",
    "        nearestStudent = min(trainXCopy, key = lambda train : getDist(train, test))\n",
    "        index = trainXCopy.index(nearestStudent)\n",
    "        nearestScores.append(trainyCopy[index])\n",
    "        del trainXCopy[index]\n",
    "        del trainyCopy[index]\n",
    "        \n",
    "    Predicty.append(sum(nearestScores) / k)\n",
    "\n",
    "print(Predicty[95:], '\\n', testy[95:], '\\n')\n",
    "\n",
    "KNNScore = np.corrcoef(Predicty, testy)[0][1]\n",
    "print(KNNScore)"
   ]
  },
  {
   "cell_type": "code",
   "execution_count": null,
   "metadata": {
    "collapsed": true
   },
   "outputs": [],
   "source": []
  }
 ],
 "metadata": {
  "kernelspec": {
   "display_name": "Python 3",
   "language": "python",
   "name": "python3"
  },
  "language_info": {
   "codemirror_mode": {
    "name": "ipython",
    "version": 3
   },
   "file_extension": ".py",
   "mimetype": "text/x-python",
   "name": "python",
   "nbconvert_exporter": "python",
   "pygments_lexer": "ipython3",
   "version": "3.6.8"
  }
 },
 "nbformat": 4,
 "nbformat_minor": 2
}
