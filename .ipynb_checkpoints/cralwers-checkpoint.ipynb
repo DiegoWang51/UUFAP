{
 "cells": [
  {
   "cell_type": "code",
   "execution_count": null,
   "metadata": {
    "collapsed": true
   },
   "outputs": [],
   "source": [
    "# Failed crawler trail\n",
    "\n",
    "import requests\n",
    "import bs4\n",
    "\n",
    "headers = {'User-Agent' : 'Mozilla/5.0 (Macintosh; Intel Mac OS X 10_10_1) \\\n",
    "AppleWebKit/537.36 (KHTML, like Gecko) Chrome/41.0.2227.1 Safari/537.36'}\n",
    "\n",
    "url = 'https://www.zhihu.com/question/66515131'\n",
    "\n",
    "response = requests.get(url, headers=headers)\n",
    "response.encoding = 'utf-8'\n",
    "\n",
    "soup = bs4.BeautifulSoup(response.text, 'html.parser')\n",
    "answersHtml = soup.findAll('div', attrs={'class':'ContentItem AnswerItem'})\n",
    "\n",
    "answers = []\n",
    "for answerHtml in answersHtml:\n",
    "    answer = ''\n",
    "    for paragraphHtml in answerHtml.findAll('p'):\n",
    "        answer += paragraphHtml.text\n",
    "        answer += '\\n\\n'\n",
    "    answers.append(answer)\n",
    "\n",
    "print(answers[0])"
   ]
  },
  {
   "cell_type": "code",
   "execution_count": null,
   "metadata": {
    "collapsed": true
   },
   "outputs": [],
   "source": [
    "# Successful crawler script\n",
    "\n",
    "import requests\n",
    "import json\n",
    "import bs4\n",
    "import csv\n",
    "\n",
    "headers = {'User-Agent' : 'Mozilla/5.0 (Macintosh; Intel Mac OS X 10_10_1) AppleWebKit/537.36 (KHTML, like Gecko) Chrome/41.0.2227.1 Safari/537.36'}\n",
    "\n",
    "baseUrl = 'https://www.zhihu.com/api/v4/questions/66515131/answers?include=data%5B%2A%5D.is_normal%2Cadmin_closed_comment%2Creward_info%2Cis_collapsed%2Cannotation_action%2Cannotation_detail%2Ccollapse_reason%2Cis_sticky%2Ccollapsed_by%2Csuggest_edit%2Ccomment_count%2Ccan_comment%2Ccontent%2Ceditable_content%2Cvoteup_count%2Creshipment_settings%2Ccomment_permission%2Ccreated_time%2Cupdated_time%2Creview_info%2Crelevant_info%2Cquestion%2Cexcerpt%2Crelationship.is_authorized%2Cis_author%2Cvoting%2Cis_thanked%2Cis_nothelp%2Cis_labeled%2Cis_recognized%2Cpaid_info%3Bdata%5B%2A%5D.mark_infos%5B%2A%5D.url%3Bdata%5B%2A%5D.author.follower_count%2Cbadge%5B%2A%5D.topics&limit={0}&offset={1}' # from Inspect --> Network --> XHR\n",
    "url = baseUrl.format('5', '0') # limit and offset, current max offset is 1075\n",
    "\n",
    "answers = []\n",
    "isEnd = False\n",
    "\n",
    "\n",
    "while not isEnd:\n",
    "    \n",
    "    response = requests.get(url, headers=headers)\n",
    "    response.encoding = 'utf-8'\n",
    "    responseDict = json.loads(response.text)\n",
    "    \n",
    "    for answersHtml in responseDict['data']:\n",
    "\n",
    "        answer = ''\n",
    "        soup = bs4.BeautifulSoup(answersHtml['content'], 'html.parser')\n",
    "\n",
    "        for paragraphHtml in soup.findAll('p'):\n",
    "\n",
    "            answer += paragraphHtml.text\n",
    "            answer += '\\n\\n'\n",
    "\n",
    "        answers.append([answer]) # [] for csv writer use\n",
    "        \n",
    "    isEnd = responseDict['paging']['is_end']\n",
    "    url = responseDict['paging']['next']\n",
    "\n",
    "\n",
    "with open('rawAnswer.csv', 'w') as f:\n",
    "    \n",
    "    writer = csv.writer(f)\n",
    "    \n",
    "    for answer in answers:\n",
    "        writer.writerow(answer)"
   ]
  },
  {
   "cell_type": "code",
   "execution_count": null,
   "metadata": {
    "collapsed": true
   },
   "outputs": [],
   "source": []
  }
 ],
 "metadata": {
  "kernelspec": {
   "display_name": "Python 3",
   "language": "python",
   "name": "python3"
  },
  "language_info": {
   "codemirror_mode": {
    "name": "ipython",
    "version": 3
   },
   "file_extension": ".py",
   "mimetype": "text/x-python",
   "name": "python",
   "nbconvert_exporter": "python",
   "pygments_lexer": "ipython3",
   "version": "3.6.8"
  }
 },
 "nbformat": 4,
 "nbformat_minor": 2
}
